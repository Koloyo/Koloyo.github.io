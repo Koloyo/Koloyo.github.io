{
 "cells": [
  {
   "cell_type": "markdown",
   "metadata": {},
   "source": [
    "# Query sample MySQL database"
   ]
  },
  {
   "cell_type": "code",
   "execution_count": 1,
   "metadata": {},
   "outputs": [],
   "source": [
    "import os.path\n",
    "import sqlite3\n",
    "import zipfile\n",
    "from pathlib import Path\n",
    "\n",
    "import requests"
   ]
  },
  {
   "cell_type": "markdown",
   "metadata": {},
   "source": [
    "## Créer une base de données SQLite"
   ]
  },
  {
   "cell_type": "code",
   "execution_count": 2,
   "metadata": {},
   "outputs": [],
   "source": [
    "data_path = '../data'"
   ]
  },
  {
   "cell_type": "code",
   "execution_count": 3,
   "metadata": {},
   "outputs": [],
   "source": [
    "if not os.path.isfile(f'{data_path}/db/chinook.db'): \n",
    "\n",
    "    # Définition de variables\n",
    "    url = \"https://www.sqlitetutorial.net/wp-content/uploads/2018/03/chinook.zip\"\n",
    "    filename = url.split(\"/\")[-1]\n",
    "    Path(f\"{data_path}/db\").mkdir(parents=True, exist_ok=True)\n",
    "    save_loc = f\"{data_path}/db/{filename}\"\n",
    "\n",
    "    # Récupérer le fichier zip dans la RAM\n",
    "    response = requests.get(url)\n",
    "\n",
    "    # Ecrire le fichier sur le disque\n",
    "    with open(save_loc, 'wb') as f:\n",
    "        f.write(response.content)\n",
    "\n",
    "    # Extraire le zip pour obtenir la db\n",
    "    with zipfile.ZipFile(save_loc, 'r') as zip_ref:\n",
    "        zip_ref.extractall(f\"{data_path}/db/\")"
   ]
  },
  {
   "cell_type": "markdown",
   "metadata": {},
   "source": [
    "## Schéma de la base de données\n",
    "\n",
    "<img src=\"https://cdn.sqlitetutorial.net/wp-content/uploads/2015/11/sqlite-sample-database-color.jpg\" />"
   ]
  },
  {
   "cell_type": "markdown",
   "metadata": {},
   "source": [
    "## Se connecter à la base de données"
   ]
  },
  {
   "cell_type": "code",
   "execution_count": 4,
   "metadata": {},
   "outputs": [],
   "source": [
    "conn = sqlite3.connect(f\"{data_path}/db/chinook.db\")\n",
    "c = conn.cursor()"
   ]
  },
  {
   "cell_type": "markdown",
   "metadata": {},
   "source": [
    "## Trouver l'identifiant de Miles Davis"
   ]
  },
  {
   "cell_type": "code",
   "execution_count": 5,
   "metadata": {
    "tags": []
   },
   "outputs": [
    {
     "name": "stdout",
     "output_type": "stream",
     "text": [
      "(68,)\n"
     ]
    }
   ],
   "source": [
    "artist = 'Miles Davis'\n",
    "\n",
    "query1 = \"SELECT ArtistId from artists WHERE Name = ?\"\n",
    "c.execute(query1, (artist,))\n",
    "artist_id = c.fetchone()\n",
    "\n",
    "print(artist_id)"
   ]
  },
  {
   "cell_type": "markdown",
   "metadata": {},
   "source": [
    "## Trouver les identifiants d'albums de Miles Davis"
   ]
  },
  {
   "cell_type": "code",
   "execution_count": 6,
   "metadata": {
    "tags": []
   },
   "outputs": [
    {
     "name": "stdout",
     "output_type": "stream",
     "text": [
      "['48', '49', '157']\n"
     ]
    }
   ],
   "source": [
    "query2 = \"SELECT * from albums where ArtistId = ?\"\n",
    "albums_ids = []\n",
    "for row in c.execute(query2, artist_id):\n",
    "    albums_ids.append(str(row[0]))\n",
    "\n",
    "print(albums_ids)"
   ]
  },
  {
   "cell_type": "markdown",
   "metadata": {},
   "source": [
    "## Trouver les morceaux des albums de Miles Davis"
   ]
  },
  {
   "cell_type": "code",
   "execution_count": 7,
   "metadata": {
    "tags": []
   },
   "outputs": [
    {
     "name": "stdout",
     "output_type": "stream",
     "text": [
      "\n",
      "36 distinct songs found:\n",
      "\n",
      "'Round Midnight\n",
      "Black Satin\n",
      "Blues For Pablo\n",
      "Blues For Pablo (Alternate Take)\n",
      "Bye Bye Blackbird\n",
      "Compulsion\n",
      "E.S.P.\n",
      "Generique\n",
      "I Don't Wanna Be Kissed (By Anyone But You)\n",
      "I Don't Wanna Be Kissed (By Anyone But You) (Alternate Take)\n",
      "Jean Pierre (Live)\n",
      "Jeru\n",
      "Lament\n",
      "Little Church (Live)\n",
      "Miles Ahead\n",
      "Miles Runs The Voodoo Down\n",
      "My Funny Valentine (Live)\n",
      "My Ship\n",
      "Nefertiti\n",
      "New Rhumba\n",
      "Now's The Time\n",
      "Petits Machins (Little Stuff)\n",
      "Portia\n",
      "So What\n",
      "Someday My Prince Will Come\n",
      "Springsville\n",
      "Springsville (Alternate Take)\n",
      "Summertime\n",
      "Tempus Fugit\n",
      "The Duke\n",
      "The Maids Of Cadiz\n",
      "The Meaning Of The Blues\n",
      "The Meaning Of The Blues/Lament (Alternate Take)\n",
      "The Pan Piper\n",
      "Time After Time\n",
      "Walkin'\n"
     ]
    }
   ],
   "source": [
    "query3 = f'SELECT Name, AlbumId FROM tracks WHERE AlbumId IN ({\",\".join(albums_ids)})'\n",
    "songs = set()\n",
    "for row in c.execute(query3):\n",
    "    songs.add(row[0])\n",
    "\n",
    "print(f\"\\n{len(songs)} distinct songs found:\\n\")\n",
    "for song in sorted(songs):\n",
    "    print(song)"
   ]
  }
 ],
 "metadata": {
  "kernelspec": {
   "display_name": "Python 3",
   "language": "python",
   "name": "python3"
  },
  "language_info": {
   "codemirror_mode": {
    "name": "ipython",
    "version": 3
   },
   "file_extension": ".py",
   "mimetype": "text/x-python",
   "name": "python",
   "nbconvert_exporter": "python",
   "pygments_lexer": "ipython3",
   "version": "3.8.3"
  }
 },
 "nbformat": 4,
 "nbformat_minor": 2
}
